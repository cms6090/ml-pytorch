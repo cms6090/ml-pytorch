{
 "cells": [
  {
   "cell_type": "markdown",
   "metadata": {},
   "source": [
    "### 텐서 : 다차원 배열을 나타내는 자료형(넘파이의 ndarray)\n",
    "\n",
    "<code>torch.tensor(data, dtype=None, device=None, requires_grad=False)</code>\n",
    "\n",
    "- data : 텐서로 변환하고자 하는 데이터(파이썬 리스트, 넘파이 배열 등)\n",
    "- dtype(optional) : 텐서의 데이터 타입, 기본값은 None, 자동으로 데이터 타입 인식\n",
    "- device(optional) : 텐서가 사용될 디바이스, 기본값은 None, CPU 상에서 계산\n",
    "- requires_grad(optional) : 해당 텐서가 그래디언트를 계산할지 여부, 기본값은 False"
   ]
  },
  {
   "cell_type": "code",
   "execution_count": 1,
   "metadata": {},
   "outputs": [
    {
     "name": "stdout",
     "output_type": "stream",
     "text": [
      "[[1, 2, 3], [4, 5, 6]]\n"
     ]
    }
   ],
   "source": [
    "import torch\n",
    "\n",
    "data = [[1,2,3], [4,5,6]]\n",
    "print(data)"
   ]
  },
  {
   "cell_type": "code",
   "execution_count": 2,
   "metadata": {},
   "outputs": [
    {
     "name": "stdout",
     "output_type": "stream",
     "text": [
      "tensor([[1, 2, 3],\n",
      "        [4, 5, 6]]) \n",
      " tensor([[1., 2., 3.],\n",
      "        [4., 5., 6.]])\n"
     ]
    },
    {
     "data": {
      "text/plain": [
       "torch.Tensor"
      ]
     },
     "execution_count": 2,
     "metadata": {},
     "output_type": "execute_result"
    }
   ],
   "source": [
    "x = torch.tensor(data)\n",
    "y = torch.tensor(data, dtype=torch.float32)\n",
    "print(x, \"\\n\", y)\n",
    "\n",
    "type(x)"
   ]
  },
  {
   "cell_type": "markdown",
   "metadata": {},
   "source": [
    "### 1. 생성"
   ]
  },
  {
   "cell_type": "code",
   "execution_count": 3,
   "metadata": {},
   "outputs": [
    {
     "name": "stdout",
     "output_type": "stream",
     "text": [
      "tensor([1, 2, 3])\n"
     ]
    }
   ],
   "source": [
    "import torch\n",
    "\n",
    "# 1차원 텐서 생성\n",
    "x = torch.tensor([1,2,3])\n",
    "print(x)"
   ]
  },
  {
   "cell_type": "code",
   "execution_count": 4,
   "metadata": {},
   "outputs": [
    {
     "name": "stdout",
     "output_type": "stream",
     "text": [
      "tensor([[1, 2, 3],\n",
      "        [4, 5, 6]])\n"
     ]
    }
   ],
   "source": [
    "# 2차원 텐서 생성\n",
    "y = torch.tensor([[1,2,3],[4,5,6]])\n",
    "print(y)"
   ]
  },
  {
   "cell_type": "code",
   "execution_count": 5,
   "metadata": {},
   "outputs": [
    {
     "name": "stdout",
     "output_type": "stream",
     "text": [
      "tensor([[[0., 0., 0., 0.],\n",
      "         [0., 0., 0., 0.],\n",
      "         [0., 0., 0., 0.]],\n",
      "\n",
      "        [[0., 0., 0., 0.],\n",
      "         [0., 0., 0., 0.],\n",
      "         [0., 0., 0., 0.]]])\n"
     ]
    }
   ],
   "source": [
    "# 모든 원소가 0인 3차원 텐서 생성\n",
    "z = torch.zeros((2,3,4)) \n",
    "# 2 : 첫번째 차원의 크기 -> 2개의 3차원 행렬\n",
    "# 3 : 두번째 차원의 크기 -> 3개의 행\n",
    "# 4 : 세번째 차원의 크기 -> 4개의 열\n",
    "print(z)"
   ]
  },
  {
   "cell_type": "code",
   "execution_count": 6,
   "metadata": {},
   "outputs": [
    {
     "name": "stdout",
     "output_type": "stream",
     "text": [
      "tensor([[[[1., 1.],\n",
      "          [1., 1.]],\n",
      "\n",
      "         [[1., 1.],\n",
      "          [1., 1.]]],\n",
      "\n",
      "\n",
      "        [[[1., 1.],\n",
      "          [1., 1.]],\n",
      "\n",
      "         [[1., 1.],\n",
      "          [1., 1.]]]])\n"
     ]
    }
   ],
   "source": [
    "# 모든 원소가 1인 4차원 텐서 생성\n",
    "w = torch.ones((2,2,2,2))\n",
    "print(w)"
   ]
  },
  {
   "cell_type": "code",
   "execution_count": 7,
   "metadata": {},
   "outputs": [
    {
     "name": "stdout",
     "output_type": "stream",
     "text": [
      "tensor([[0.6442, 0.2398, 0.7952],\n",
      "        [0.9297, 0.6296, 0.0876],\n",
      "        [0.0100, 0.2624, 0.0830]])\n"
     ]
    }
   ],
   "source": [
    "# 랜덤한 값으로 채워진 3x3 텐서 생성\n",
    "r = torch.rand((3,3))\n",
    "print(r)"
   ]
  },
  {
   "cell_type": "markdown",
   "metadata": {},
   "source": [
    "#### 분포에서 난수 생성\n",
    "- rand : 균등분포(0,1)에서 난수 생성\n",
    "- randn : 정규분포(0,1)에서 난수 생성"
   ]
  },
  {
   "cell_type": "code",
   "execution_count": 8,
   "metadata": {},
   "outputs": [
    {
     "name": "stdout",
     "output_type": "stream",
     "text": [
      "tensor([[0.0418, 0.4445, 0.6420],\n",
      "        [0.4662, 0.4054, 0.8661]])\n"
     ]
    }
   ],
   "source": [
    "# 균등 분포(0,1)에서 난수를 생성\n",
    "x = torch.rand(2,3)\n",
    "print(x)"
   ]
  },
  {
   "cell_type": "code",
   "execution_count": 9,
   "metadata": {},
   "outputs": [
    {
     "name": "stdout",
     "output_type": "stream",
     "text": [
      "tensor([[ 0.1399,  0.2789, -0.9537],\n",
      "        [-0.1286,  0.6568, -0.1738]])\n"
     ]
    }
   ],
   "source": [
    "# 정규 분포(0,1)에서 난수를 생성\n",
    "y = torch.randn(2,3)\n",
    "print(y)"
   ]
  },
  {
   "cell_type": "markdown",
   "metadata": {},
   "source": [
    "#### 메모리 상에 할당된 임의의 값으로 초기화된 텐서를 생성"
   ]
  },
  {
   "cell_type": "code",
   "execution_count": 10,
   "metadata": {},
   "outputs": [
    {
     "name": "stdout",
     "output_type": "stream",
     "text": [
      "tensor([1, 2, 3])\n"
     ]
    }
   ],
   "source": [
    "# .Tensor 예제1\n",
    "a = torch.tensor([1,2,3])\n",
    "print(a)"
   ]
  },
  {
   "cell_type": "code",
   "execution_count": 11,
   "metadata": {},
   "outputs": [
    {
     "name": "stdout",
     "output_type": "stream",
     "text": [
      "tensor([[0., 0., 0.],\n",
      "        [0., 0., 0.]])\n"
     ]
    }
   ],
   "source": [
    "# .empty 예제\n",
    "b = torch.empty(2,3)\n",
    "print(b)"
   ]
  },
  {
   "cell_type": "code",
   "execution_count": 12,
   "metadata": {},
   "outputs": [
    {
     "name": "stdout",
     "output_type": "stream",
     "text": [
      "tensor([[0., 0., 0.],\n",
      "        [0., 0., 0.]])\n"
     ]
    }
   ],
   "source": [
    "# .Tensor 예제2\n",
    "c = torch.Tensor(2,3)\n",
    "print(c)"
   ]
  },
  {
   "cell_type": "markdown",
   "metadata": {},
   "source": [
    "#### .from_numpy()와 .tensor()의 차이\n",
    "- .from_numpy() : NumPy 배열을 Pytorch Tensor로 변환<br>기존 NumPy 배열과 데이터를 공유 -> 반환된 Tensor를 수정하면 NumPy 배열도 수정(동일 위치 참조)\n",
    "- .tensor() : NumPy 배열과 유사한 새로운 Pytorch Tensor를 생성<br>새로운 Tensor와 NumPy 배열은 데이터 공유 X -> Tensor를 수정해도 NumPy 배열은 변경X"
   ]
  },
  {
   "cell_type": "code",
   "execution_count": 28,
   "metadata": {},
   "outputs": [
    {
     "name": "stdout",
     "output_type": "stream",
     "text": [
      "[-1  2  3]\n"
     ]
    }
   ],
   "source": [
    "import torch\n",
    "import numpy as np\n",
    "\n",
    "# NumPy 배열 생성\n",
    "a_np = np.array([1,2,3])\n",
    "\n",
    "# NumPy 배열을 Pytorch Tensor로 변환\n",
    "a_tensor = torch.from_numpy(a_np)\n",
    "\n",
    "# Tensor 수정\n",
    "a_tensor[0] = -1\n",
    "\n",
    "print(a_np)"
   ]
  },
  {
   "cell_type": "code",
   "execution_count": 29,
   "metadata": {},
   "outputs": [
    {
     "name": "stdout",
     "output_type": "stream",
     "text": [
      "[1 2 3]\n"
     ]
    }
   ],
   "source": [
    "import torch\n",
    "import numpy as np\n",
    "\n",
    "# NumPy 배열 생성\n",
    "a_np = np.array([1,2,3])\n",
    "\n",
    "# NumPy 배열을 Pytorch Tensor로 변환\n",
    "a_tensor = torch.tensor(a_np)\n",
    "\n",
    "# Tensor 수정\n",
    "a_tensor[0] = -1\n",
    "\n",
    "print(a_np)"
   ]
  },
  {
   "cell_type": "markdown",
   "metadata": {},
   "source": [
    "#### torch.randn : 정규 분포에서 무작위로 추출한 난수를 가지고 지정된 크기의 텐서를 생성\n",
    "<code>torch.randn(*size, out=None, dtype=None, layout=torch.strided, device=None, requires_grad=False) -> Tensor</code>\n",
    "- *size : 생성하려는 텐서의 크기를 나타내는 가변 인수<br>\n",
    "ex) torch.rand(3,4)는 3x4크기의 2차원 텐서 생성\n",
    "- out(optional) : 결과를 저장할 출력 텐서, 기본값은 None\n",
    "- dtype(optional) : 생성되는 텐서의 데이터 타입을 지정하는 인수, 기본값은 None\n",
    "- layout(optional) : 생성되는 텐서의 레이아웃을 지정하는 인수, 기본값은 torch.strided\n",
    "- device(optional) : 생성되는 텐서의 디바이스를 지정하는 인수, 기본값은 None, 현재 사용 중인 디바이스로 자동 설정\n",
    "- requires_grad(optional) : 생성되는 텐서의 기울기를 계산할 지 여부를 지정하는 인수, 기본값은 False"
   ]
  },
  {
   "cell_type": "code",
   "execution_count": 31,
   "metadata": {},
   "outputs": [
    {
     "name": "stdout",
     "output_type": "stream",
     "text": [
      "tensor([[ 0.7808,  0.1828, -0.3606],\n",
      "        [ 0.5665, -0.4726,  0.9861]])\n"
     ]
    }
   ],
   "source": [
    "import torch\n",
    "\n",
    "# 2x3 크기의 텐서 생성\n",
    "tensor = torch.randn(2, 3)\n",
    "\n",
    "print(tensor)"
   ]
  },
  {
   "cell_type": "markdown",
   "metadata": {},
   "source": [
    "### 2. 파이토치 텐서의 속성\n",
    "<ul>\n",
    "<li>데이터 타입(dtype)\n",
    "<ul>\n",
    "<li>torch.FloatTensor : 32비트 부동소수점 저장</li>\n",
    "<li>torch.LongTensr : 64비트 정수를 저장</li>\n",
    "</ul></li>\n",
    "<li>디바이스(device) : 텐서가 저장되는 장치(CPU/GPU)</li>\n",
    "<li>크기(size) : 텐서 안에 있는 데이터의 개수\n",
    "<ul><li>torch.Size([3,4]) : 3행 4열의 행렬</li></ul></li>\n",
    "<li>모양(shape) : 텐서의 차원</li>\n",
    "</ul>"
   ]
  },
  {
   "cell_type": "code",
   "execution_count": 27,
   "metadata": {},
   "outputs": [
    {
     "name": "stdout",
     "output_type": "stream",
     "text": [
      "torch.int64\n",
      "cpu\n",
      "3\n",
      "torch.Size([3, 2]) torch.Size([3, 2])\n",
      "torch.Size([2, 2])\n"
     ]
    }
   ],
   "source": [
    "import torch\n",
    "\n",
    "# 데이터 타입\n",
    "x = torch.tensor([1,2,3])\n",
    "print(x.dtype) # 기본값 : torch.int64(int의 경우), torch.float32(float의 경우)\n",
    "\n",
    "# 디바이스\n",
    "device = torch.device('cpu')\n",
    "x = torch.tensor([1,2,3], device = device)\n",
    "print(x.device) # CPU\n",
    "\n",
    "# 크기\n",
    "x = torch.tensor([1,2,3])\n",
    "print(x.numel()) # .numel() : 크기 출력\n",
    "\n",
    "# 모양\n",
    "x = torch.tensor([[1,2],[3,4],[5,6]])\n",
    "print(x.shape, x.size())\n",
    "\n",
    "# 모양 변경\n",
    "x = torch.tensor([1,2,3,4])\n",
    "y = x.view(2,2) # x.reshape(2,2)\n",
    "print(y.size())"
   ]
  },
  {
   "cell_type": "markdown",
   "metadata": {},
   "source": [
    "### 3. 연산"
   ]
  },
  {
   "cell_type": "code",
   "execution_count": 33,
   "metadata": {},
   "outputs": [
    {
     "name": "stdout",
     "output_type": "stream",
     "text": [
      "tensor([[1, 2],\n",
      "        [3, 4]]) tensor([[5, 6],\n",
      "        [7, 8]])\n",
      "tensor([[ 6,  8],\n",
      "        [10, 12]])\n",
      "tensor([[-4, -4],\n",
      "        [-4, -4]])\n",
      "tensor([[ 5, 12],\n",
      "        [21, 32]])\n",
      "tensor([[0.2000, 0.3333],\n",
      "        [0.4286, 0.5000]])\n",
      "tensor([[19, 22],\n",
      "        [43, 50]])\n",
      "tensor(11)\n"
     ]
    }
   ],
   "source": [
    "import torch\n",
    "\n",
    "# 텐서 생성\n",
    "a = torch.tensor([[1,2],[3,4]])\n",
    "b = torch.tensor([[5,6],[7,8]])\n",
    "\n",
    "print(a,b)\n",
    "# 덧셈\n",
    "c = a + b\n",
    "print(c)\n",
    "\n",
    "# 뺌셈\n",
    "d = a - b\n",
    "print(d)\n",
    "\n",
    "# 곱셈\n",
    "e = a * b\n",
    "print(e)\n",
    "\n",
    "# 나눗셈\n",
    "f = a / b\n",
    "print(f)\n",
    "\n",
    "# 행렬곱\n",
    "g = torch.mm(a,b)\n",
    "print(g)\n",
    "\n",
    "# 점곱\n",
    "h = torch.dot(torch.tensor([1,2]), torch.tensor([3,4])) # x^T * y\n",
    "print(h)"
   ]
  },
  {
   "cell_type": "code",
   "execution_count": 36,
   "metadata": {},
   "outputs": [
    {
     "name": "stdout",
     "output_type": "stream",
     "text": [
      "tensor([[4, 3],\n",
      "        [3, 4]])\n",
      "tensor([4, 6])\n",
      "tensor([[1, 3],\n",
      "        [2, 4]])\n"
     ]
    }
   ],
   "source": [
    "# 요소별 최대값 계산\n",
    "i = torch.tensor([[1,2],[3,4]])\n",
    "j = torch.tensor([[4,3],[2,1]])\n",
    "k = torch.max(i, j)\n",
    "print(k)\n",
    "\n",
    "# 차원 축소\n",
    "l = torch.tensor([[1,2],[3,4]])\n",
    "m = torch.sum(l, dim=0)\n",
    "print(m)\n",
    "\n",
    "# 전치\n",
    "n = torch.tensor([[1,2],[3,4]])\n",
    "o = torch.transpose(n, 0, 1)\n",
    "print(o)"
   ]
  },
  {
   "cell_type": "code",
   "execution_count": 38,
   "metadata": {},
   "outputs": [
    {
     "name": "stdout",
     "output_type": "stream",
     "text": [
      "tensor(3)\n",
      "tensor([[1, 2],\n",
      "        [4, 5],\n",
      "        [7, 8]])\n",
      "tensor([4, 5])\n"
     ]
    }
   ],
   "source": [
    "# 인덱싱\n",
    "p = torch.tensor([[1,2],[3,4],[5,6]])\n",
    "q = p[1,0]\n",
    "print(q)\n",
    "\n",
    "# 슬라이싱\n",
    "r = torch.tensor([[1,2,3],[4,5,6],[7,8,9]])\n",
    "s = r[:, :2]\n",
    "print(s)\n",
    "\n",
    "# 조건부 인덱싱\n",
    "t = torch.tensor([1,2,3,4,5])\n",
    "u = t[t > 3]\n",
    "print(u)"
   ]
  },
  {
   "cell_type": "markdown",
   "metadata": {},
   "source": [
    "#### 텐서의 차원을 변경하는 연산\n",
    "- unsqueeze() : 지정된 차원에 1인 차원 추가\n",
    "- squeeze() : 크기가 1인 차원 제거\n",
    "- reshape() : 텐서의 형태 변환\n",
    "- sort() : 텐서의 요소 정렬, 정렬된 텐서와 원래 인덱스 반환\n",
    "- argsort() : 텐서의 요소를 정렬했을 때의 인덱스를 반환"
   ]
  },
  {
   "cell_type": "code",
   "execution_count": 49,
   "metadata": {},
   "outputs": [
    {
     "name": "stdout",
     "output_type": "stream",
     "text": [
      "tensor([1, 2, 3, 4]) torch.Size([4])\n",
      "tensor([[1, 2, 3, 4]]) torch.Size([1, 4])\n",
      "tensor([[1],\n",
      "        [2],\n",
      "        [3],\n",
      "        [4]]) torch.Size([4, 1])\n",
      "tensor([[1, 2],\n",
      "        [3, 4]]) torch.Size([2, 2])\n",
      "tensor([1, 2, 3]) tensor([2, 1, 0])\n",
      "tensor([4, 5, 6]) tensor([0, 1, 2])\n",
      "tensor([3, 2, 1]) tensor([2, 1, 0])\n"
     ]
    }
   ],
   "source": [
    "import torch\n",
    "\n",
    "# 텐서 생성\n",
    "x = torch.tensor([1,2,3,4])\n",
    "print(x, x.shape)\n",
    "\n",
    "# 텐서 차원 변경\n",
    "y = x.unsqueeze(0) # 첫 번째 차원에 1 추가\n",
    "print(y, y.shape)\n",
    "\n",
    "y = x.unsqueeze(1)\n",
    "print(y, y.shape)\n",
    "\n",
    "# 텐서 reshape\n",
    "y = x.reshape(2,2)\n",
    "print(y, y.shape)\n",
    "\n",
    "# 텐서 정렬\n",
    "x = torch.tensor([3,2,1])\n",
    "y = torch.tensor([4,5,6])\n",
    "z = torch.tensor([1,2,3])\n",
    "a, b = torch.sort(x)\n",
    "print(a, b)\n",
    "\n",
    "a, b = torch.sort(y)\n",
    "print(a, b)\n",
    "\n",
    "a, b = torch.sort(z, descending = True)\n",
    "print(a, b)"
   ]
  },
  {
   "cell_type": "markdown",
   "metadata": {},
   "source": [
    "#### 병합"
   ]
  },
  {
   "cell_type": "code",
   "execution_count": 54,
   "metadata": {},
   "outputs": [
    {
     "name": "stdout",
     "output_type": "stream",
     "text": [
      "[[1 2]\n",
      " [3 4]] \n",
      " [[5 6]\n",
      " [7 8]] \n",
      "\n",
      "[[1 2 5 6]\n",
      " [3 4 7 8]]\n",
      "[[1 2]\n",
      " [3 4]\n",
      " [5 6]\n",
      " [7 8]]\n",
      "[[1 2 5 6]\n",
      " [3 4 7 8]]\n"
     ]
    }
   ],
   "source": [
    "# numpy\n",
    "arr1 = np.array([[1,2],[3,4]])\n",
    "arr2 = np.array([[5,6],[7,8]])\n",
    "print(arr1, \"\\n\", arr2, \"\\n\")\n",
    "print(np.concatenate((arr1, arr2), axis=1))\n",
    "print(np.vstack((arr1, arr2)))\n",
    "print(np.hstack((arr1, arr2)))"
   ]
  },
  {
   "cell_type": "code",
   "execution_count": 56,
   "metadata": {},
   "outputs": [
    {
     "name": "stdout",
     "output_type": "stream",
     "text": [
      "tensor([[1, 2, 5, 6],\n",
      "        [3, 4, 7, 8]])\n",
      "tensor([[1, 2],\n",
      "        [3, 4],\n",
      "        [5, 6],\n",
      "        [7, 8]])\n",
      "tensor([[1, 2, 5, 6],\n",
      "        [3, 4, 7, 8]])\n"
     ]
    }
   ],
   "source": [
    "# tensor\n",
    "a1 = torch.tensor(arr1)\n",
    "a2 = torch.tensor(arr2)\n",
    "print(torch.cat((a1, a2), axis=1))\n",
    "print(torch.vstack((a1,a2))) # 세로로 병합\n",
    "print(torch.hstack((a1,a2))) # 가로로 병합"
   ]
  },
  {
   "cell_type": "markdown",
   "metadata": {},
   "source": [
    "#### 유용한 함수들\n",
    "<ul>\n",
    "<li> torch.eq : 2개의 입력 텐서를 받아 같은 모양(shape)의 텐서를 반환<br>\n",
    "두 텐서의 원소 간의 동등성을 비교하여 값(True/False)로 채워진 텐서를 반환</li>\n",
    "<br>\n",
    "<li> torch.softmax : 입력값을 확률 형태로 변환해주는 함수<br>\n",
    "<code>torch.softmax(input, dim=None, dtype=None)</code></li>\n",
    "<ul>\n",
    "    <li>input : 소프트맥스 함수를 적용하려는 입력 텐서</li>\n",
    "    <li>dim(optional) : 소프트맥스를 계산할 차원, 기본값은 None, 마지막 차원이 사용</li>\n",
    "    <li>dtype(optional) : 출력 센서의 데이터타입, 기본값은 None</li>\n",
    "</ul>\n",
    "</ul>"
   ]
  },
  {
   "cell_type": "code",
   "execution_count": 60,
   "metadata": {},
   "outputs": [
    {
     "name": "stdout",
     "output_type": "stream",
     "text": [
      "tensor([True, True, True])\n",
      "tensor([ True,  True, False])\n"
     ]
    }
   ],
   "source": [
    "a = torch.tensor([1, 2, 3])\n",
    "b = torch.tensor([1, 2, 3])\n",
    "c = torch.tensor([1, 2, 4])\n",
    "\n",
    "result1 = torch.eq(a, b)\n",
    "result2 = torch.eq(a, c)\n",
    "\n",
    "print(result1)\n",
    "print(result2)"
   ]
  },
  {
   "cell_type": "code",
   "execution_count": 61,
   "metadata": {},
   "outputs": [
    {
     "name": "stdout",
     "output_type": "stream",
     "text": [
      "tensor([0.0900, 0.2447, 0.6652])\n"
     ]
    }
   ],
   "source": [
    "a = torch.tensor([1.0, 2.0, 3.0]) # 입력 텐서\n",
    "softmax_output = torch.softmax(a, dim=0) # dim=0으로 소프트맥스 계산\n",
    "print(softmax_output)"
   ]
  },
  {
   "cell_type": "markdown",
   "metadata": {},
   "source": [
    "#### 인플레이스 연산 : 원본 텐서의 값을 변경 -> 메모리를 절약\n",
    "- add_\n",
    "- sub_\n",
    "- mul_\n",
    "- div_\n",
    "- pow_\n",
    "- sqrt_\n",
    "- round_\n",
    "- floor_\n",
    "- ceil_\n",
    "- clamp_\n",
    "- fill_"
   ]
  },
  {
   "cell_type": "code",
   "execution_count": 65,
   "metadata": {},
   "outputs": [
    {
     "name": "stdout",
     "output_type": "stream",
     "text": [
      "tensor([2, 3, 4])\n",
      "tensor([2, 3, 4])\n"
     ]
    }
   ],
   "source": [
    "import torch\n",
    "\n",
    "# 인플레이스 연산 예제\n",
    "a = torch.tensor([1,2,3])\n",
    "b = a # 동일한 메모리 주소 참조 -> 하나가 변경되면 나머지도 변경\n",
    "a.add_(torch.tensor([1,1,1]))\n",
    "print(a)\n",
    "print(b)"
   ]
  },
  {
   "cell_type": "markdown",
   "metadata": {},
   "source": [
    "- .fill_() : 텐서의 모든 요소를 지정된 값으로 새로운 텐서를 생성\n",
    "- .full() : 주어진 크기와 지정된 값으로 새로운 텐서를 생성"
   ]
  },
  {
   "cell_type": "code",
   "execution_count": 66,
   "metadata": {},
   "outputs": [
    {
     "name": "stdout",
     "output_type": "stream",
     "text": [
      "tensor([[0., 0., 0.],\n",
      "        [0., 0., 0.],\n",
      "        [0., 0., 0.]])\n",
      "tensor([[1., 1., 1.],\n",
      "        [1., 1., 1.],\n",
      "        [1., 1., 1.]])\n"
     ]
    }
   ],
   "source": [
    "import torch\n",
    "\n",
    "# 3x3 크기의 텐서 생성\n",
    "x = torch.zeros(3,3)\n",
    "print(x)\n",
    "\n",
    "# 모든 요소를 1로 채우기\n",
    "x.fill_(1)\n",
    "print(x)"
   ]
  },
  {
   "cell_type": "code",
   "execution_count": 67,
   "metadata": {},
   "outputs": [
    {
     "name": "stdout",
     "output_type": "stream",
     "text": [
      "tensor([[5, 5, 5],\n",
      "        [5, 5, 5],\n",
      "        [5, 5, 5]])\n"
     ]
    }
   ],
   "source": [
    "import torch\n",
    "\n",
    "# 3x3 크기의 텐서를 5로 채우기\n",
    "x = torch.full((3,3), 5)\n",
    "print(x)"
   ]
  },
  {
   "cell_type": "code",
   "execution_count": null,
   "metadata": {},
   "outputs": [],
   "source": []
  }
 ],
 "metadata": {
  "kernelspec": {
   "display_name": "machine",
   "language": "python",
   "name": "python3"
  },
  "language_info": {
   "codemirror_mode": {
    "name": "ipython",
    "version": 3
   },
   "file_extension": ".py",
   "mimetype": "text/x-python",
   "name": "python",
   "nbconvert_exporter": "python",
   "pygments_lexer": "ipython3",
   "version": "3.12.4"
  }
 },
 "nbformat": 4,
 "nbformat_minor": 2
}
