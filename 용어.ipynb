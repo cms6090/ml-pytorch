{
 "cells": [
  {
   "cell_type": "markdown",
   "metadata": {},
   "source": [
    "#### 에폭, 미니 배치, 배치, 이터레이션"
   ]
  },
  {
   "cell_type": "markdown",
   "metadata": {},
   "source": [
    "- 에폭 : 하나의 단위, 학습에서 훈련 데이터를 모두 소진했을 때의 횟수 -> 훈련 데이터를 모두 사용한 횟수\n",
    "- 미니 배치 : 전체 데이터 셋을 몇 개의 데이터 셋으로 나누었을 때, 그 작은 데이터 셋 뭉치\n",
    "- 배치 : 하나의 미니 배치에 넘겨주는 데이터 객수, 즉 한번의 배치마다 주는 샘플의 size\n",
    "- 이터레이션 : 하나의 미니 배치를 학습할 때!\n",
    "\n",
    "![](image/term.png)"
   ]
  },
  {
   "cell_type": "markdown",
   "metadata": {},
   "source": [
    "ex) 훈련 데이터 1000개를 10개의 미니 배치로 나누어 학습하는 경우 배치 사이즈는 100, 10회 iteration하면 모든 훈련 데이터를 소진 -> 에폭 1"
   ]
  },
  {
   "cell_type": "markdown",
   "metadata": {},
   "source": [
    "#### 컨볼루션 연산"
   ]
  },
  {
   "cell_type": "markdown",
   "metadata": {},
   "source": [
    "![](image/convolution.png)"
   ]
  },
  {
   "cell_type": "code",
   "execution_count": null,
   "metadata": {},
   "outputs": [],
   "source": []
  }
 ],
 "metadata": {
  "kernelspec": {
   "display_name": "machine",
   "language": "python",
   "name": "python3"
  },
  "language_info": {
   "codemirror_mode": {
    "name": "ipython",
    "version": 3
   },
   "file_extension": ".py",
   "mimetype": "text/x-python",
   "name": "python",
   "nbconvert_exporter": "python",
   "pygments_lexer": "ipython3",
   "version": "3.12.6"
  }
 },
 "nbformat": 4,
 "nbformat_minor": 2
}
